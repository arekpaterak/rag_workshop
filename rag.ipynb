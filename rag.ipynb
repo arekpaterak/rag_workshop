{
 "cells": [
  {
   "cell_type": "markdown",
   "id": "56969b09-4a94-40fe-84a5-1f23e44734ed",
   "metadata": {},
   "source": [
    "# RAG implementation using LangChain\n",
    "In this notebook we will explore a simple RAG pipeline using LangChain framework. Having the knowledge on basic concepts that you gained from the intro notebook you should be able to fill in the gaps and run your first RAG pipeline. If you want to explore more check out the LangChain documentation with a [RAG Q&A example](https://python.langchain.com/docs/use_cases/question_answering)."
   ]
  },
  {
   "cell_type": "markdown",
   "id": "acf303c6-56d2-420d-8996-efb5d92c241a",
   "metadata": {},
   "source": [
    "## Loading documents\n",
    "First, we need to load the relevant knowledge documents so the model can refer to them while answering the questions. I have prepared a couple of files with customer support policies that are located inside the `policies` directory. LangChain has a large number of document loaders available, for example you can load content of websites and remote storages. For more details refer to [documentation](https://python.langchain.com/docs/modules/data_connection/document_loaders/).\n",
    "\n",
    "In this exercise we are going to use `DirectoryLoader` that parses the directory for files and uses `UnstructuredLoader` to load textual data. Files are found using the pattern matching for `txt` extension."
   ]
  },
  {
   "cell_type": "code",
   "execution_count": 1,
   "id": "5a287c90-5703-45cd-b373-fa6b476f418f",
   "metadata": {},
   "outputs": [
    {
     "name": "stderr",
     "output_type": "stream",
     "text": [
      "  0%|          | 0/4 [00:00<?, ?it/s][nltk_data] Downloading package punkt to\n",
      "[nltk_data]     C:\\Users\\arkad\\AppData\\Roaming\\nltk_data...\n",
      "[nltk_data]   Unzipping tokenizers\\punkt.zip.\n",
      "[nltk_data] Downloading package averaged_perceptron_tagger to\n",
      "[nltk_data]     C:\\Users\\arkad\\AppData\\Roaming\\nltk_data...\n",
      "[nltk_data]   Unzipping taggers\\averaged_perceptron_tagger.zip.\n",
      "100%|██████████| 4/4 [00:07<00:00,  1.86s/it]"
     ]
    },
    {
     "name": "stdout",
     "output_type": "stream",
     "text": [
      "Documents loaded: 4\n"
     ]
    },
    {
     "name": "stderr",
     "output_type": "stream",
     "text": [
      "\n"
     ]
    }
   ],
   "source": [
    "from langchain_community.document_loaders import DirectoryLoader\n",
    "\n",
    "loader = DirectoryLoader(\n",
    "    'policies', \n",
    "    glob=\"*.txt\", \n",
    "    show_progress=True,\n",
    ")\n",
    "\n",
    "docs = loader.load()\n",
    "\n",
    "print(\"Documents loaded:\", len(docs))"
   ]
  },
  {
   "cell_type": "code",
   "execution_count": 2,
   "id": "7f214e68-d7fc-41d9-a27d-96a02d8ae282",
   "metadata": {},
   "outputs": [
    {
     "name": "stdout",
     "output_type": "stream",
     "text": [
      "Item Change Policy**\n",
      "\n",
      "Our goal is to ensure that you are completely satisfied with your purchase. If you need to request a change for an item you've received due to damage, size issues, or other concerns, please refer to the following policy:\n",
      "\n",
      "1. **Damaged Items**: If you receive an item that is damaged upon arrival, please contact our Customer Support Team within 48 hours of receiving the item. Provide a detailed description of the damage and include photographic evidence if possible. We will arrange for a replacement or refund as quickly as possible.\n",
      "\n",
      "**Procedure for Reporting Damaged Items**: - Immediately document the damage with clear photographs. - Contact our Customer Support Team with your order number, description, and photographs of the damage. - Follow any additional instructions provided by the support agent to facilitate the exchange or refund.\n",
      "\n",
      "2. **Incorrect Size/Item**: If you've received an item in the wrong size or the wrong item altogether, please notify us within 14 days of receipt to initiate an exchange or return process.\n",
      "\n",
      "**Procedure for Incorrect Size/Item**: - Notify our Customer Support Team with details of the issue, including order number, and whether the item is the wrong size or entirely incorrect. - Return the item in unused and original condition, including all packaging and tags attached. - Once we receive the item and verify the issue, we will send the correct item or issue a refund if preferred.\n",
      "\n",
      "3. **Out of Stock**: In the rare event that the item you've ordered is out of stock and we cannot fulfill your request for an exchange, we will notify you as soon as possible and provide the following options: - Choose another item of equivalent value as a replacement. - Receive a full refund to your original method of payment.\n",
      "\n",
      "4. **Contact Details and Timeframe**: For all change requests, our Customer Support Team can be contacted through the following methods: - Email: support@email.com - Phone: 1 (800) 000-0000 - Website: [Customer Support/Returns Page](#)\n",
      "\n",
      "We ask that you contact us immediately once you identify a need for a change to ensure we can address your concern in a timely manner. Delays in communication may affect eligibility for changes.\n",
      "\n",
      "5. **Return and Exchange Process**: Once your request is received and approved by our Customer Support Team, we will provide you with instructions for returning the item, including a return shipping label if applicable. Items must be returned to us in their original condition, including all packaging and tags.\n",
      "\n",
      "6. **Timeframe for Returns/Exchanges**: Refunds or exchanges will be processed within 5-7 business days after we receive the returned item.\n",
      "\n",
      "7. **Non-Returnable/Exchangeable Items**: Certain categories of items may be excluded from returns or exchanges, such as perishable goods, personalized or custom-made items, and hygiene-related products. We will provide clear information on the product page if an item falls into these categories.\n",
      "\n",
      "8. **Policy Updates**: We reserve the right to modify or update this Item Change Policy at our discretion and recommend customers review the policy periodically.\n",
      "\n",
      "For any further questions or special circumstances related to changing an item, please reach out to our Customer Support Team who are at your service to assist with any issues or concerns.\n"
     ]
    }
   ],
   "source": [
    "# Preview content of a document\n",
    "print(docs[0].page_content)"
   ]
  },
  {
   "cell_type": "markdown",
   "id": "e4e63aa4-be36-4670-9063-9cbdf2c72257",
   "metadata": {},
   "source": [
    "## Splitting documents\n",
    "It is especially desirable to retrieve knowledge from enormous knowledge bases that are hard to traverse by humans. For example, imagine thousands of pages of legal documentation. Reading it would take long days for a single person. One of the limitations of LLMs are limited context windows which comes from the quadratic complexity of the [transformer attention layer](https://nlp.seas.harvard.edu/2018/04/03/attention.html). Because of that, long documents should be split into smaller, meaningful chunks of text. The split can't be done randomly, it would break the meaning of sentences and may cause loss of information. Thankfully, LangChain delivers a library of [text splitters](https://python.langchain.com/docs/modules/data_connection/document_transformers/) that you can use. In this exercise the policies are relatively short and can easily fit the context window. The default text splitter will leave them undivided. However, you can experiment with the `chunk_size` to see how the splitter slices the document into meaningful chunks of text."
   ]
  },
  {
   "cell_type": "code",
   "execution_count": 3,
   "id": "7d6ba022-eab5-46b9-830a-dc77aea22b69",
   "metadata": {},
   "outputs": [
    {
     "name": "stdout",
     "output_type": "stream",
     "text": [
      "Number of chunks: 4\n"
     ]
    }
   ],
   "source": [
    "from langchain_text_splitters import RecursiveCharacterTextSplitter\n",
    "\n",
    "# Split texts into chunks. Our documents are quite short so they won't be split. \n",
    "# To experiment with different settings uncomment the arguments to override default settings.\n",
    "text_splitter = RecursiveCharacterTextSplitter(\n",
    "    # chunk_size=1000,\n",
    "    # chunk_overlap=20,\n",
    "    # length_function=len,\n",
    ")\n",
    "\n",
    "documents = text_splitter.split_documents(docs)\n",
    "print(\"Number of chunks:\", len(documents))"
   ]
  },
  {
   "cell_type": "markdown",
   "id": "bdf821eb-da04-4c39-8331-97ac4a5c9993",
   "metadata": {},
   "source": [
    "## Initialize vector store\n",
    "There are a number of vector databases supported by LangChain, ranging from Sklearn implementation to cloud based databases. For the full list of integrations refer to [documentation](https://python.langchain.com/docs/integrations/vectorstores). Here we are going to use [FAISS](https://python.langchain.com/docs/integrations/vectorstores/faiss) - Facebook AI Similarity Search, which is easy to install using python package manager. Create a vector store by passing documents and embedding models to the method."
   ]
  },
  {
   "cell_type": "code",
   "execution_count": 4,
   "id": "3d5b1e33-15d5-4255-9e8a-a46843aa63fc",
   "metadata": {},
   "outputs": [
    {
     "name": "stderr",
     "output_type": "stream",
     "text": [
      "OllamaEmbeddings: 100%|██████████| 4/4 [01:19<00:00, 19.91s/it]\n"
     ]
    }
   ],
   "source": [
    "from langchain_community.vectorstores import FAISS\n",
    "from langchain_community.embeddings import OllamaEmbeddings\n",
    "\n",
    "embeddings = OllamaEmbeddings(show_progress=True)\n",
    "\n",
    "vector_store = FAISS.from_documents(documents, embeddings)"
   ]
  },
  {
   "cell_type": "markdown",
   "id": "b722dc30-6a8c-47c1-9f1f-c86a536ee5e1",
   "metadata": {},
   "source": [
    "Vector store provides a method for similarity search out of the box. It is very easy to retrieve related documents."
   ]
  },
  {
   "cell_type": "code",
   "execution_count": 5,
   "id": "e0fcf71f-2db7-4466-b956-3aab776a043c",
   "metadata": {},
   "outputs": [
    {
     "name": "stderr",
     "output_type": "stream",
     "text": [
      "OllamaEmbeddings: 100%|██████████| 1/1 [00:02<00:00,  2.59s/it]"
     ]
    },
    {
     "name": "stdout",
     "output_type": "stream",
     "text": [
      "Retrieved documents: 4\n",
      "Document content: Item Change Policy**\n",
      "\n",
      "Our goal is to ensure that you are completely satisfied with your purchase. If you need to request a change for an item you've received due to damage, size issues, or other concerns, please refer to the following policy:\n",
      "\n",
      "1. **Damaged Items**: If you receive an item that is damaged upon arrival, please contact our Customer Support Team within 48 hours of receiving the item. Provide a detailed description of the damage and include photographic evidence if possible. We will arrange for a replacement or refund as quickly as possible.\n",
      "\n",
      "**Procedure for Reporting Damaged Items**: - Immediately document the damage with clear photographs. - Contact our Customer Support Team with your order number, description, and photographs of the damage. - Follow any additional instructions provided by the support agent to facilitate the exchange or refund.\n",
      "\n",
      "2. **Incorrect Size/Item**: If you've received an item in the wrong size or the wrong item altogether, please notify us within 14 days of receipt to initiate an exchange or return process.\n",
      "\n",
      "**Procedure for Incorrect Size/Item**: - Notify our Customer Support Team with details of the issue, including order number, and whether the item is the wrong size or entirely incorrect. - Return the item in unused and original condition, including all packaging and tags attached. - Once we receive the item and verify the issue, we will send the correct item or issue a refund if preferred.\n",
      "\n",
      "3. **Out of Stock**: In the rare event that the item you've ordered is out of stock and we cannot fulfill your request for an exchange, we will notify you as soon as possible and provide the following options: - Choose another item of equivalent value as a replacement. - Receive a full refund to your original method of payment.\n",
      "\n",
      "4. **Contact Details and Timeframe**: For all change requests, our Customer Support Team can be contacted through the following methods: - Email: support@email.com - Phone: 1 (800) 000-0000 - Website: [Customer Support/Returns Page](#)\n",
      "\n",
      "We ask that you contact us immediately once you identify a need for a change to ensure we can address your concern in a timely manner. Delays in communication may affect eligibility for changes.\n",
      "\n",
      "5. **Return and Exchange Process**: Once your request is received and approved by our Customer Support Team, we will provide you with instructions for returning the item, including a return shipping label if applicable. Items must be returned to us in their original condition, including all packaging and tags.\n",
      "\n",
      "6. **Timeframe for Returns/Exchanges**: Refunds or exchanges will be processed within 5-7 business days after we receive the returned item.\n",
      "\n",
      "7. **Non-Returnable/Exchangeable Items**: Certain categories of items may be excluded from returns or exchanges, such as perishable goods, personalized or custom-made items, and hygiene-related products. We will provide clear information on the product page if an item falls into these categories.\n",
      "\n",
      "8. **Policy Updates**: We reserve the right to modify or update this Item Change Policy at our discretion and recommend customers review the policy periodically.\n",
      "\n",
      "For any further questions or special circumstances related to changing an item, please reach out to our Customer Support Team who are at your service to assist with any issues or concerns.\n"
     ]
    },
    {
     "name": "stderr",
     "output_type": "stream",
     "text": [
      "\n"
     ]
    }
   ],
   "source": [
    "retrieved = vector_store.similarity_search(\"I received wrong size of the item\")\n",
    "print(\"Retrieved documents:\", len(retrieved))\n",
    "print(\"Document content:\", retrieved[0].page_content)"
   ]
  },
  {
   "cell_type": "markdown",
   "id": "f10580af-1cc5-479c-9aff-717b11bd8b07",
   "metadata": {},
   "source": [
    "## RAG pipeline\n",
    "Having all the pieces of the pipeline we can create a chain that takes a question and answers it given the knowledge from the policies. In the previous notebook you learned how to assemble components into a pipeline using the pipe operator `|`. Here we are going to use [helper functions](https://python.langchain.com/docs/modules/chains) provided by LangChain to compose complex RAG chain. \n",
    "\n",
    "- [`create_stuff_documents_chain`](https://api.python.langchain.com/en/latest/chains/langchain.chains.combine_documents.stuff.create_stuff_documents_chain.html#langchain.chains.combine_documents.stuff.create_stuff_documents_chain): This chain takes a list of documents and formats them all into a prompt, then passes that prompt to an LLM. It passes ALL documents, so you should make sure it fits within the context window the LLM you are using.\n",
    "- [`create_retrieval_chain`](https://api.python.langchain.com/en/latest/chains/langchain.chains.retrieval.create_retrieval_chain.html#langchain.chains.retrieval.create_retrieval_chain): This chain takes in a user inquiry, which is then passed to the retriever to fetch relevant documents. Those documents (and original inputs) are then passed to an LLM to generate a response.\n",
    "\n",
    "Your chat prompt template should take `{context}` and `{input}` fields. Having that, you can chain the prompt and the llm using the `create_stuff_documents_chain`."
   ]
  },
  {
   "cell_type": "code",
   "execution_count": 17,
   "id": "65da165d-9544-461d-9ac8-a6950e019ab6",
   "metadata": {},
   "outputs": [
    {
     "data": {
      "text/plain": [
       "RunnableBinding(bound=RunnableBinding(bound=RunnableAssign(mapper={\n",
       "  context: RunnableLambda(format_docs)\n",
       "}), config={'run_name': 'format_inputs'})\n",
       "| ChatPromptTemplate(input_variables=['context', 'input'], messages=[HumanMessagePromptTemplate(prompt=PromptTemplate(input_variables=['context', 'input'], template='\\n   Answer the question based on the provided context:\\n   <context>\\n   {context}\\n   </context>\\n                                          \\n   Question: \\n   {input}\\n'))])\n",
       "| Ollama()\n",
       "| StrOutputParser(), config={'run_name': 'stuff_documents_chain'})"
      ]
     },
     "execution_count": 17,
     "metadata": {},
     "output_type": "execute_result"
    }
   ],
   "source": [
    "from langchain_core.prompts import ChatPromptTemplate\n",
    "from langchain.chains.combine_documents import create_stuff_documents_chain\n",
    "from langchain_community.llms import Ollama\n",
    "\n",
    "llm = Ollama(model=\"llama2\")\n",
    "\n",
    "prompt = ChatPromptTemplate.from_template(\"\"\"\n",
    "   Answer the question based on the provided context:\n",
    "   <context>\n",
    "   {context}\n",
    "   </context>\n",
    "                                          \n",
    "   Question: \n",
    "   {input}\n",
    "\"\"\")\n",
    "\n",
    "document_chain = create_stuff_documents_chain(llm, prompt)\n",
    "document_chain"
   ]
  },
  {
   "cell_type": "markdown",
   "id": "b7aa5c47-f2b7-497f-bb73-1c899b0875f8",
   "metadata": {},
   "source": [
    "Next, we will chain together the retriever (which is simply a wrapper around the vector store) and the combined document chain that you created above. It will make a chain that is able to retrieve relevant documents from the vector store and give the output for a given query. "
   ]
  },
  {
   "cell_type": "code",
   "execution_count": 18,
   "id": "69cbbd63-1775-4bcd-9fe9-71d4837faf0f",
   "metadata": {},
   "outputs": [
    {
     "data": {
      "text/plain": [
       "RunnableBinding(bound=RunnableAssign(mapper={\n",
       "  context: RunnableBinding(bound=RunnableLambda(lambda x: x['input'])\n",
       "           | VectorStoreRetriever(tags=['FAISS', 'OllamaEmbeddings'], vectorstore=<langchain_community.vectorstores.faiss.FAISS object at 0x000001AA39632290>), config={'run_name': 'retrieve_documents'})\n",
       "})\n",
       "| RunnableAssign(mapper={\n",
       "    answer: RunnableBinding(bound=RunnableBinding(bound=RunnableAssign(mapper={\n",
       "              context: RunnableLambda(format_docs)\n",
       "            }), config={'run_name': 'format_inputs'})\n",
       "            | ChatPromptTemplate(input_variables=['context', 'input'], messages=[HumanMessagePromptTemplate(prompt=PromptTemplate(input_variables=['context', 'input'], template='\\n   Answer the question based on the provided context:\\n   <context>\\n   {context}\\n   </context>\\n                                          \\n   Question: \\n   {input}\\n'))])\n",
       "            | Ollama()\n",
       "            | StrOutputParser(), config={'run_name': 'stuff_documents_chain'})\n",
       "  }), config={'run_name': 'retrieval_chain'})"
      ]
     },
     "execution_count": 18,
     "metadata": {},
     "output_type": "execute_result"
    }
   ],
   "source": [
    "from langchain.chains import create_retrieval_chain\n",
    "\n",
    "retriever = vector_store.as_retriever()\n",
    "retrieval_chain = create_retrieval_chain(retriever, document_chain)\n",
    "retrieval_chain"
   ]
  },
  {
   "cell_type": "markdown",
   "id": "9ba180e7-572d-4460-a0af-8b6971042efc",
   "metadata": {},
   "source": [
    "## Running the chain\n",
    "The final chain implements a runnable interface as well. All you need to do is to provide your question as an input.\n",
    "\n",
    "Some of the questions you can ask: \n",
    "- Accepted methods of payments\n",
    "- Customer was charged twice\n",
    "- Package was lost\n",
    "- Order cancellation\n",
    "- Item arrived damaged"
   ]
  },
  {
   "cell_type": "code",
   "execution_count": 19,
   "id": "eb6f99fa-993e-4683-b9e4-7627e05a4038",
   "metadata": {},
   "outputs": [
    {
     "name": "stderr",
     "output_type": "stream",
     "text": [
      "OllamaEmbeddings: 100%|██████████| 1/1 [00:02<00:00,  2.57s/it]\n"
     ]
    },
    {
     "name": "stdout",
     "output_type": "stream",
     "text": [
      "Sure, here is an example of how you could answer the customer's question:\n",
      "\n",
      "Thank you for reaching out to us regarding the charge on your order. We apologize for any inconvenience this may have caused and would be happy to assist you in resolving the issue.\n",
      "\n",
      "To investigate this matter further, could you please provide us with some more details? For example, what is the item that was charged too much, and how much did you pay compared to the actual price of the item? Additionally, do you have any receipts or proof of purchase that could help us identify the issue more quickly?\n",
      "\n",
      "Once we have this information, we can work on providing a resolution as soon as possible. In the meantime, please feel free to contact us again if you have any questions or concerns. We appreciate your patience and understanding in this matter.\n"
     ]
    }
   ],
   "source": [
    "response = retrieval_chain.invoke({\"input\": \"I got charged too much for the item.\"})\n",
    "print(response[\"answer\"])"
   ]
  },
  {
   "cell_type": "markdown",
   "id": "355d52d2-172b-4b64-9c8b-0e9bca1de93a",
   "metadata": {},
   "source": [
    "## Further work\n",
    "- Check if LLM is willing to give away your company secrets, ask it to tell something confidential\n",
    "- Try using system prompt from the intro notebook to prevent model from going astray and perform only allowed actions - `ChatPromptTemplate.from_messages`\n",
    "- To further improve the pipeline you can implement [memory mechanism](https://python.langchain.com/docs/use_cases/question_answering/chat_history) that holds previous conversation so you can ask follow-up questions!"
   ]
  },
  {
   "cell_type": "code",
   "execution_count": 20,
   "id": "1e83d248-d57e-403c-aad4-a6325d0f39ab",
   "metadata": {},
   "outputs": [
    {
     "name": "stderr",
     "output_type": "stream",
     "text": [
      "OllamaEmbeddings: 100%|██████████| 1/1 [00:02<00:00,  2.72s/it]\n"
     ]
    },
    {
     "name": "stdout",
     "output_type": "stream",
     "text": [
      "Answer:\n",
      "At our company, we take great care to ensure that our products reach our customers in the best possible condition. However, despite our efforts, damages may occur during transit or handling. In such cases, we have a clear policy in place to handle these situations.\n",
      "\n",
      "1. **Damaged Items**: If your item is damaged upon delivery, please contact us immediately through our official customer support channels. Please ensure that you inspect the item within 48 hours of delivery and notify us promptly if any damage is observed.\n",
      "2. **Verification Process**: Our Customer Support Team will ask for photographs of the damaged item from you to verify the damage. Please provide clear images of the damage, including any defective packaging or labeling issues.\n",
      "3. **Replacement or Refund**: Depending on the extent of the damage, we will offer you a replacement or a full refund of your order. If the damage is minor and does not affect the item's performance or functionality, we may opt for a repair instead. Please note that the customer is responsible for the cost of return shipping in case of a refund or replacement.\n",
      "4. **Timeframes**: We aim to process replacements or refunds within 7 business days of notification. However, please allow up to 14 business days for the processing and delivery of your replacement item or refund.\n",
      "5. **Exchange Policy**: If you would like to exchange your damaged item for a different product, please contact our Customer Support Team to discuss the process. Please note that exchanges are subject to availability and may incur additional shipping costs.\n",
      "6. **Waiver of Liability**: By purchasing from us, you acknowledge that we are not liable for any damages or losses incurred during transit or handling. Our responsibility ends once the item is delivered to you. Please ensure that you inspect your item thoroughly upon delivery and report any damage immediately to avoid any potential claims.\n",
      "\n",
      "**Contact Information**: For any queries or issues related to damaged items, please contact our Customer Support Team through email at [support@email.com](mailto:support@email.com), phone at 1 (800) 000-0000, or by filling out the Contact Form on our website's Contact Us Page.\n",
      "\n",
      "**Additional Information**: Please note that we are not responsible for any damages caused by improper handling or storage of the item after delivery. It is essential to follow the care instructions provided in the product documentation to ensure the longevity and performance of your purchase.\n",
      "\n",
      "We appreciate your prompt notification and cooperation in handling any damaged items. Our team is committed to providing you with a satisfactory resolution.\n"
     ]
    }
   ],
   "source": [
    "response = retrieval_chain.invoke({\"input\": \"What is your policy concerning damaged items? Provide it in detail.\"})\n",
    "print(response[\"answer\"])"
   ]
  }
 ],
 "metadata": {
  "kernelspec": {
   "display_name": "Python 3 (ipykernel)",
   "language": "python",
   "name": "python3"
  },
  "language_info": {
   "codemirror_mode": {
    "name": "ipython",
    "version": 3
   },
   "file_extension": ".py",
   "mimetype": "text/x-python",
   "name": "python",
   "nbconvert_exporter": "python",
   "pygments_lexer": "ipython3",
   "version": "3.11.3"
  }
 },
 "nbformat": 4,
 "nbformat_minor": 5
}
